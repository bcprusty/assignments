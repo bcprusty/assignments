{
 "cells": [
  {
   "cell_type": "markdown",
   "id": "07f5d669-12e5-4f49-96f6-e3f86d12b658",
   "metadata": {},
   "source": [
    "### TOPIC: Python Basics Variable"
   ]
  },
  {
   "cell_type": "code",
   "execution_count": 1,
   "id": "94e01b14-b46b-4810-86f6-42305d8b6fe5",
   "metadata": {},
   "outputs": [
    {
     "name": "stdin",
     "output_type": "stream",
     "text": [
      "Enter value of variable x 12\n",
      "Enter value of variable y 15\n"
     ]
    },
    {
     "name": "stdout",
     "output_type": "stream",
     "text": [
      "After Swapping\n",
      "----------------\n",
      "Value of variable x:  15\n",
      "Value of variable y:  12\n"
     ]
    }
   ],
   "source": [
    "'''1. Declare two variables, `x` and `y`, and assign them integer values. Swap the values of these variables without using any temporary variable.'''\n",
    "\n",
    "#code to accept inputs from user\n",
    "x=int(input(\"Enter value of variable x\"))\n",
    "y=int(input(\"Enter value of variable y\"))\n",
    "\n",
    "#swapping without using temporary variable\n",
    "x=x+y\n",
    "y=x-y\n",
    "x=x-y\n",
    "\n",
    "#printing the final result\n",
    "print(\"After Swapping\\n----------------\")\n",
    "print('Value of variable x: ',x)\n",
    "print('Value of variable y: ',y)"
   ]
  },
  {
   "cell_type": "code",
   "execution_count": 2,
   "id": "759732b9-545b-4ed1-8f87-59fb2df424fa",
   "metadata": {},
   "outputs": [
    {
     "name": "stdin",
     "output_type": "stream",
     "text": [
      "Enter length of rectangle 12\n",
      "Enter breadth of rectangle 5\n"
     ]
    },
    {
     "name": "stdout",
     "output_type": "stream",
     "text": [
      "Area of rectangle is 60\n"
     ]
    }
   ],
   "source": [
    "'''2. Create a program that calculates the area of a rectangle. Take the length and width as inputs from the user and store them in variables. Calculate and\n",
    "display the area.'''\n",
    "\n",
    "#code to accept the length and breadth of rectangle from user\n",
    "l=int(input(\"Enter length of rectangle\"))\n",
    "b=int(input(\"Enter breadth of rectangle\"))\n",
    "\n",
    "#printing the area of the rectangle \n",
    "print('Area of rectangle is',l*b)"
   ]
  },
  {
   "cell_type": "code",
   "execution_count": 3,
   "id": "0fdefc14-509d-41fd-b54e-5aebb251468c",
   "metadata": {},
   "outputs": [
    {
     "name": "stdin",
     "output_type": "stream",
     "text": [
      "Enter temperature in Celsius 37.8\n"
     ]
    },
    {
     "name": "stdout",
     "output_type": "stream",
     "text": [
      "Temperature in Fahrenheit:  100.04\n"
     ]
    }
   ],
   "source": [
    "'''3. Write a Python program that converts temperatures from Celsius to Fahrenheit. Take the temperature in Celsius as input, store it in a variable,\n",
    "convert it to Fahrenheit, and display the result.'''\n",
    "\n",
    "#code to accept temperature in celsius from user\n",
    "c=float(input('Enter temperature in Celsius'))\n",
    "\n",
    "#converting temperature from celsius to fahrenheit\n",
    "f=c*(9/5)+32\n",
    "\n",
    "#printing the desired result\n",
    "print('Temperature in Fahrenheit: ',round(f,2))"
   ]
  },
  {
   "cell_type": "markdown",
   "id": "22dfbe04-1b20-4197-8e12-5a1badc38abd",
   "metadata": {},
   "source": [
    "### TOPIC: String Based Questions"
   ]
  },
  {
   "cell_type": "code",
   "execution_count": 4,
   "id": "21380491-eb26-4e78-b2e9-c313410a3196",
   "metadata": {},
   "outputs": [
    {
     "name": "stdin",
     "output_type": "stream",
     "text": [
      "Enter a string:  Bikash\n"
     ]
    },
    {
     "name": "stdout",
     "output_type": "stream",
     "text": [
      "Length of the entered string is 6\n"
     ]
    }
   ],
   "source": [
    "'''1. Write a Python program that takes a string as input and prints the length of the string.'''\n",
    "\n",
    "#code to accept a string from user\n",
    "s=input('Enter a string: ')\n",
    "\n",
    "#printing the length of the string\n",
    "print('Length of the entered string is',len(s))"
   ]
  },
  {
   "cell_type": "code",
   "execution_count": 5,
   "id": "5fbb0399-c27a-4557-87ff-7ffca1468e32",
   "metadata": {},
   "outputs": [
    {
     "name": "stdin",
     "output_type": "stream",
     "text": [
      "Enter a sentence:  Data Science\n"
     ]
    },
    {
     "name": "stdout",
     "output_type": "stream",
     "text": [
      "Number of vowels present in Data Science are 5\n"
     ]
    }
   ],
   "source": [
    "'''2. Create a program that takes a sentence from the user and counts the number of vowels (a, e, i, o, u) in the string.'''\n",
    "\n",
    "#code to accept a sentence from user\n",
    "sen = input('Enter a sentence: ')\n",
    "\n",
    "#counting the number of vowels present in the sentence\n",
    "vowels = 'AEIOUaeiou'\n",
    "ctr=0\n",
    "for v in vowels:\n",
    "    ctr = ctr + sen.count(v)\n",
    "\n",
    "#printing the count of vowels \n",
    "print('Number of vowels present in',sen,'are', ctr)"
   ]
  },
  {
   "cell_type": "code",
   "execution_count": 1,
   "id": "e194f180-9471-44dc-ba37-16d12d547514",
   "metadata": {},
   "outputs": [
    {
     "name": "stdin",
     "output_type": "stream",
     "text": [
      "Enter a string PWSkills\n"
     ]
    },
    {
     "name": "stdout",
     "output_type": "stream",
     "text": [
      "Reversed string:  sllikSWP\n"
     ]
    }
   ],
   "source": [
    "'''3. Given a string, reverse the order of characters using string slicing and print the reversed string.'''\n",
    "\n",
    "#code to accept a string from user\n",
    "sen=input(\"Enter a string\")\n",
    "\n",
    "#reversing the characters using string slicing\n",
    "rev=sen[::-1]\n",
    "\n",
    "#printing the reversed string\n",
    "print(\"Reversed string: \", rev)"
   ]
  },
  {
   "cell_type": "code",
   "execution_count": 1,
   "id": "858df300-4607-410b-9f1e-cd3534bbaea0",
   "metadata": {},
   "outputs": [
    {
     "name": "stdin",
     "output_type": "stream",
     "text": [
      "Enter a string madam\n"
     ]
    },
    {
     "name": "stdout",
     "output_type": "stream",
     "text": [
      "Palindrome string\n"
     ]
    }
   ],
   "source": [
    "'''4. Write a program that takes a string as input and checks if it is a palindrome (reads the same forwards and backwards).'''\n",
    "\n",
    "#code to accept a string from user\n",
    "sen=input(\"Enter a string\")\n",
    "\n",
    "#reversing the string\n",
    "rev=sen[::-1]\n",
    "\n",
    "#check for palindrome string and printing the final result\n",
    "if sen == rev:\n",
    "    print('Palindrome string')\n",
    "else:\n",
    "    print('Not a Palindrome string')"
   ]
  },
  {
   "cell_type": "code",
   "execution_count": 3,
   "id": "a03675a8-9692-4505-bccd-815844708f12",
   "metadata": {},
   "outputs": [
    {
     "name": "stdin",
     "output_type": "stream",
     "text": [
      "Enter a string:  Full Stack Data Science\n"
     ]
    },
    {
     "name": "stdout",
     "output_type": "stream",
     "text": [
      "Modified string:  FullStackDataScience\n"
     ]
    }
   ],
   "source": [
    "'''5. Create a program that takes a string as input and removes all the spaces from it. Print the modified string without spaces.'''\n",
    "\n",
    "#code to accept a string from users\n",
    "str1 = input('Enter a string: ')\n",
    "\n",
    "#removing all spaces from string and printing the desired result\n",
    "print('Modified string: ', str1.replace(\" \",\"\"))"
   ]
  },
  {
   "cell_type": "code",
   "execution_count": null,
   "id": "98bca221-4e0f-47f3-b7c0-472704dbb042",
   "metadata": {},
   "outputs": [],
   "source": []
  }
 ],
 "metadata": {
  "kernelspec": {
   "display_name": "Python 3 (ipykernel)",
   "language": "python",
   "name": "python3"
  },
  "language_info": {
   "codemirror_mode": {
    "name": "ipython",
    "version": 3
   },
   "file_extension": ".py",
   "mimetype": "text/x-python",
   "name": "python",
   "nbconvert_exporter": "python",
   "pygments_lexer": "ipython3",
   "version": "3.10.8"
  }
 },
 "nbformat": 4,
 "nbformat_minor": 5
}
